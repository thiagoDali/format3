{
 "cells": [
  {
   "cell_type": "markdown",
   "id": "402943b1",
   "metadata": {},
   "source": [
    "<center><img src=\"https://i.imgur.com/zRrFdsf.png\" width=\"700\"></center>\n",
    "\n",
    "\n",
    "# Formatting Data (dates)\n",
    "\n",
    "It is very common to find dates (some combination of year, month, day of week and time) in data that is collected in real time (and other that organize event information.\n",
    "\n",
    "Let's see a data frame that comes with dates from an API."
   ]
  },
  {
   "cell_type": "code",
   "execution_count": 2,
   "id": "75f3c948",
   "metadata": {},
   "outputs": [
    {
     "ename": "ModuleNotFoundError",
     "evalue": "No module named 'sodapy'",
     "output_type": "error",
     "traceback": [
      "\u001b[1;31m---------------------------------------------------------------------------\u001b[0m",
      "\u001b[1;31mModuleNotFoundError\u001b[0m                       Traceback (most recent call last)",
      "Cell \u001b[1;32mIn[2], line 2\u001b[0m\n\u001b[0;32m      1\u001b[0m \u001b[38;5;28;01mimport\u001b[39;00m \u001b[38;5;21;01mpandas\u001b[39;00m \u001b[38;5;28;01mas\u001b[39;00m \u001b[38;5;21;01mpd\u001b[39;00m\n\u001b[1;32m----> 2\u001b[0m \u001b[38;5;28;01mfrom\u001b[39;00m \u001b[38;5;21;01msodapy\u001b[39;00m \u001b[38;5;28;01mimport\u001b[39;00m Socrata\n\u001b[0;32m      4\u001b[0m client \u001b[38;5;241m=\u001b[39m Socrata(\u001b[38;5;124m\"\u001b[39m\u001b[38;5;124mdata.seattle.gov\u001b[39m\u001b[38;5;124m\"\u001b[39m, \u001b[38;5;28;01mNone\u001b[39;00m)\n\u001b[0;32m      6\u001b[0m results \u001b[38;5;241m=\u001b[39m client\u001b[38;5;241m.\u001b[39mget(\u001b[38;5;124m\"\u001b[39m\u001b[38;5;124mkzjm-xkqj\u001b[39m\u001b[38;5;124m\"\u001b[39m, limit\u001b[38;5;241m=\u001b[39m\u001b[38;5;241m2000\u001b[39m)\n",
      "\u001b[1;31mModuleNotFoundError\u001b[0m: No module named 'sodapy'"
     ]
    }
   ],
   "source": [
    "import pandas as pd\n",
    "from sodapy import Socrata\n",
    "\n",
    "client = Socrata(\"data.seattle.gov\", None)\n",
    "\n",
    "results = client.get(\"kzjm-xkqj\", limit=2000)\n",
    "\n",
    "# Convert to pandas DataFrame\n",
    "calls911 = pd.DataFrame.from_records(results)"
   ]
  },
  {
   "cell_type": "markdown",
   "id": "33d1b686",
   "metadata": {},
   "source": [
    "Let's check some information:"
   ]
  },
  {
   "cell_type": "code",
   "execution_count": null,
   "id": "8b6e8130",
   "metadata": {},
   "outputs": [],
   "source": [
    "calls911.info()"
   ]
  },
  {
   "cell_type": "markdown",
   "id": "411ee94b",
   "metadata": {},
   "source": [
    "Let's get rid of some columns:"
   ]
  },
  {
   "cell_type": "code",
   "execution_count": null,
   "id": "ff87b95f",
   "metadata": {},
   "outputs": [],
   "source": [
    "calls911=calls911.iloc[:,:7]"
   ]
  },
  {
   "cell_type": "markdown",
   "id": "ea1b71f9",
   "metadata": {},
   "source": [
    "Let's check the column _datetime_:"
   ]
  },
  {
   "cell_type": "code",
   "execution_count": null,
   "id": "c61dade2",
   "metadata": {},
   "outputs": [],
   "source": [
    "calls911.datetime.head()"
   ]
  },
  {
   "cell_type": "code",
   "execution_count": null,
   "id": "0685a26d",
   "metadata": {},
   "outputs": [],
   "source": [
    "# then\n",
    "type(calls911.datetime[0])"
   ]
  },
  {
   "cell_type": "markdown",
   "id": "bf7e8e20",
   "metadata": {},
   "source": [
    "The date and time information is not useful at this time, that is, the information it offers is of limited use, as it is just a string. \n",
    "\n",
    "Let's make it useful:"
   ]
  },
  {
   "cell_type": "code",
   "execution_count": null,
   "id": "3e232c75",
   "metadata": {
    "scrolled": true
   },
   "outputs": [],
   "source": [
    "calls911.datetime=pd.to_datetime(calls911.datetime,format='%Y-%m-%d')\n",
    "calls911.info()"
   ]
  },
  {
   "cell_type": "markdown",
   "id": "b90004bf",
   "metadata": {},
   "source": [
    "Once you have this data type, you can retrieve important information:"
   ]
  },
  {
   "cell_type": "code",
   "execution_count": null,
   "id": "0d7637b8",
   "metadata": {},
   "outputs": [],
   "source": [
    "calls911['date']=calls911.datetime.dt.date\n",
    "calls911['year']=calls911.datetime.dt.year\n",
    "calls911['month']=calls911.datetime.dt.month\n",
    "calls911['month_name']=calls911.datetime.dt.month_name()\n",
    "calls911['day']=calls911.datetime.dt.day\n",
    "calls911['weekday']=calls911.datetime.dt.day_name()\n",
    "calls911['hour']=calls911.datetime.dt.hour\n",
    "calls911['minute']=calls911.datetime.dt.minute"
   ]
  },
  {
   "cell_type": "code",
   "execution_count": null,
   "id": "6c1581d8",
   "metadata": {},
   "outputs": [],
   "source": [
    "calls911.head()"
   ]
  },
  {
   "cell_type": "markdown",
   "id": "5aee7d81",
   "metadata": {},
   "source": [
    "Let's create a new column with what we have. In this case, a boolean where you tell if it is night time (after 8 pm before 6 am):"
   ]
  },
  {
   "cell_type": "code",
   "execution_count": null,
   "id": "335b1a0f",
   "metadata": {},
   "outputs": [],
   "source": [
    "calls911['nightTime']=((calls911['hour']<=6) | (calls911['hour']>=20))"
   ]
  },
  {
   "cell_type": "markdown",
   "id": "28280f34",
   "metadata": {},
   "source": [
    "Can we use several columns to build a _datetime_?"
   ]
  },
  {
   "cell_type": "code",
   "execution_count": null,
   "id": "3afa4a2d",
   "metadata": {},
   "outputs": [],
   "source": [
    "pd.to_datetime(calls911[['month', 'day','year','hour','minute']])"
   ]
  },
  {
   "cell_type": "markdown",
   "id": "b35551dd",
   "metadata": {},
   "source": [
    "Notice that the columns about lat/long are non numeric, let's solve that:"
   ]
  },
  {
   "cell_type": "code",
   "execution_count": null,
   "id": "21032db1",
   "metadata": {},
   "outputs": [],
   "source": [
    "calls911[['longitude','latitude']]=calls911[['longitude','latitude']].apply(lambda x:pd.to_numeric(x))"
   ]
  },
  {
   "cell_type": "code",
   "execution_count": null,
   "id": "a8add445",
   "metadata": {},
   "outputs": [],
   "source": [
    "#re check\n",
    "calls911.info()"
   ]
  },
  {
   "cell_type": "markdown",
   "id": "b60afa87",
   "metadata": {},
   "source": [
    "Let's save what we have:"
   ]
  },
  {
   "cell_type": "code",
   "execution_count": null,
   "id": "954e790c",
   "metadata": {},
   "outputs": [],
   "source": [
    "import os\n",
    "\n",
    "where=os.path.join('data','calls911.pkl')\n",
    "calls911.to_pickle(where)"
   ]
  },
  {
   "cell_type": "code",
   "execution_count": null,
   "id": "b3c281bc",
   "metadata": {},
   "outputs": [],
   "source": []
  }
 ],
 "metadata": {
  "kernelspec": {
   "display_name": "Python 3 (ipykernel)",
   "language": "python",
   "name": "python3"
  },
  "language_info": {
   "codemirror_mode": {
    "name": "ipython",
    "version": 3
   },
   "file_extension": ".py",
   "mimetype": "text/x-python",
   "name": "python",
   "nbconvert_exporter": "python",
   "pygments_lexer": "ipython3",
   "version": "3.10.9"
  }
 },
 "nbformat": 4,
 "nbformat_minor": 5
}
